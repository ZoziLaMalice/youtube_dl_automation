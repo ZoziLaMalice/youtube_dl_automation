{
 "metadata": {
  "language_info": {
   "codemirror_mode": {
    "name": "ipython",
    "version": 3
   },
   "file_extension": ".py",
   "mimetype": "text/x-python",
   "name": "python",
   "nbconvert_exporter": "python",
   "pygments_lexer": "ipython3",
   "version": "3.8.2-final"
  },
  "orig_nbformat": 2,
  "kernelspec": {
   "name": "Python 3.8.2 64-bit",
   "display_name": "Python 3.8.2 64-bit",
   "metadata": {
    "interpreter": {
     "hash": "31f2aee4e71d21fbe5cf8b01ff0e069b9275f58929596ceb00d14d90e3e16cd6"
    }
   }
  }
 },
 "nbformat": 4,
 "nbformat_minor": 2,
 "cells": [
  {
   "cell_type": "code",
   "execution_count": 44,
   "metadata": {},
   "outputs": [],
   "source": [
    "from selenium.webdriver.chrome.options import Options\n",
    "from selenium import webdriver\n",
    "import re\n",
    "import csv\n",
    "import os\n",
    "\n",
    "chrome_options = Options()\n",
    "#chrome_options.add_argument(\"--headless\")\n",
    "\n",
    "driver = webdriver.Chrome(chrome_options=chrome_options)"
   ]
  },
  {
   "cell_type": "code",
   "execution_count": 45,
   "metadata": {},
   "outputs": [],
   "source": [
    "url = 'https://www.youtube.com/user/MRCURTIS137599/playlists'\n",
    "\n",
    "driver.get(url)"
   ]
  },
  {
   "cell_type": "code",
   "execution_count": 46,
   "metadata": {},
   "outputs": [],
   "source": [
    "names = [n.get_attribute('title') for n in driver.find_elements_by_xpath('//*[@id=\"video-title\"]')]\n",
    "playlist_urls = [p.get_attribute('href') for p in driver.find_elements_by_xpath('//*[@id=\"view-more\"]/a')]\n",
    "playlist = dict(zip([i for i in range(len(names))], zip(names, playlist_urls)))"
   ]
  },
  {
   "cell_type": "code",
   "execution_count": 47,
   "metadata": {},
   "outputs": [
    {
     "output_type": "execute_result",
     "data": {
      "text/plain": [
       "{0: ('Micro',\n",
       "  'https://www.youtube.com/playlist?list=PLvEaFQJe3P3IJzXrBqFSrqAUPGwkUMw9a'),\n",
       " 1: ('Funcking',\n",
       "  'https://www.youtube.com/playlist?list=PLvEaFQJe3P3LJh1VoFnzX69Y0YpFzXqBQ'),\n",
       " 2: ('dl',\n",
       "  'https://www.youtube.com/playlist?list=PLvEaFQJe3P3JmSZMF4GH8gxS6Usuz353r'),\n",
       " 3: ('Favorites',\n",
       "  'https://www.youtube.com/playlist?list=FL4Y7L4F7miXzhdLdlJuN2fQ'),\n",
       " 4: ('touk',\n",
       "  'https://www.youtube.com/playlist?list=PLvEaFQJe3P3LB0JvI4u_AIMC4hk7bU8--')}"
      ]
     },
     "metadata": {},
     "execution_count": 47
    }
   ],
   "source": [
    "playlist"
   ]
  },
  {
   "cell_type": "code",
   "execution_count": 48,
   "metadata": {},
   "outputs": [
    {
     "output_type": "stream",
     "name": "stdout",
     "text": [
      "Hello ZoziPop!\nHere, your playlists.\nWhich one do you want to update ?\n\n[0] -> Micro\n[1] -> Funcking\n[2] -> dl\n[3] -> Favorites\n[4] -> touk\n"
     ]
    }
   ],
   "source": [
    "print('Hello ZoziPop!\\nHere, your playlists.\\nWhich one do you want to update ?\\n')\n",
    "for n, url in playlist.items():\n",
    "    print(f'[{n}] -> {url[0]}')\n",
    "\n",
    "choice = int(input('Enter the number corresponding to the playlist:\\n'))"
   ]
  },
  {
   "cell_type": "code",
   "execution_count": 49,
   "metadata": {},
   "outputs": [],
   "source": [
    "url = playlist[choice][1]\n",
    "driver.get(url)"
   ]
  },
  {
   "cell_type": "code",
   "execution_count": 50,
   "metadata": {},
   "outputs": [],
   "source": [
    "musics = []\n",
    "nb_music = driver.find_element_by_xpath('//*[@id=\"stats\"]/yt-formatted-string[1]/span[1]').text\n",
    "while len(musics) != int(nb_music):\n",
    "    driver.execute_script(\"window.scrollTo(0, 100000);\")\n",
    "    musics = driver.find_elements_by_xpath('//*[@id=\"content\"]/a')\n",
    "\n",
    "comp = re.compile('^(.+)&list')\n",
    "musics_url = [comp.search(music.get_attribute('href')).group(1) for music in musics] "
   ]
  },
  {
   "cell_type": "code",
   "execution_count": 51,
   "metadata": {},
   "outputs": [],
   "source": [
    "with open(f'{playlist[choice][0]}/already_download.txt', 'r') as f:\n",
    "    already_dl = [line.rstrip() for line in f]\n",
    "\n",
    "with open(f'{playlist[choice][0]}/already_download.txt', 'w') as f:\n",
    "    for url in musics_url:\n",
    "        f.write(f\"{url}\\n\")\n",
    "\n",
    "musics_url = list(set(musics_url) - set(already_dl))\n",
    "\n",
    "with open(f'{playlist[choice][0]}/urls_to_download.txt', 'w') as f:\n",
    "    for url in musics_url:\n",
    "        f.write(f\"{url}\\n\")"
   ]
  },
  {
   "cell_type": "code",
   "execution_count": 52,
   "metadata": {},
   "outputs": [
    {
     "output_type": "execute_result",
     "data": {
      "text/plain": [
       "512"
      ]
     },
     "metadata": {},
     "execution_count": 52
    }
   ],
   "source": [
    "os.system(f'python3 /usr/local/bin/youtube-dl -a ./{playlist[choice][0]}/urls_to_download.txt -o ~/Music/{playlist[choice][0]}/%(uploader)s/%(title)s.%(ext)s')"
   ]
  },
  {
   "cell_type": "code",
   "execution_count": null,
   "metadata": {},
   "outputs": [],
   "source": []
  }
 ]
}